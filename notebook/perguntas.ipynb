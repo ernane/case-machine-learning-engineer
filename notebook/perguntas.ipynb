{
 "cells": [
  {
   "cell_type": "markdown",
   "metadata": {
    "application/vnd.databricks.v1+cell": {
     "cellMetadata": {},
     "inputWidgets": {},
     "nuid": "09b7366a-26aa-4121-97ef-69e01b6a43ee",
     "showTitle": false,
     "title": ""
    }
   },
   "source": [
    "## CSV to Table"
   ]
  },
  {
   "cell_type": "code",
   "execution_count": 0,
   "metadata": {
    "application/vnd.databricks.v1+cell": {
     "cellMetadata": {
      "byteLimit": 2048000,
      "rowLimit": 10000
     },
     "inputWidgets": {},
     "nuid": "3f54e739-7e0c-44cc-bdbf-300f0f33494d",
     "showTitle": false,
     "title": ""
    }
   },
   "outputs": [
    {
     "output_type": "stream",
     "name": "stdout",
     "output_type": "stream",
     "text": [
      "+--------+---------------------+-----------+\n|database|tableName            |isTemporary|\n+--------+---------------------+-----------+\n|default |airports_database_csv|false      |\n+--------+---------------------+-----------+\n\n"
     ]
    }
   ],
   "source": [
    "spark.sql(\"SHOW TABLES\").show(truncate=False)"
   ]
  },
  {
   "cell_type": "code",
   "execution_count": 0,
   "metadata": {
    "application/vnd.databricks.v1+cell": {
     "cellMetadata": {
      "byteLimit": 2048000,
      "rowLimit": 10000
     },
     "inputWidgets": {},
     "nuid": "b35f3919-5203-41f7-8569-73ab62f1d06e",
     "showTitle": false,
     "title": ""
    }
   },
   "outputs": [],
   "source": [
    "data = spark.table(\"airports_database_csv\")"
   ]
  },
  {
   "cell_type": "code",
   "execution_count": 0,
   "metadata": {
    "application/vnd.databricks.v1+cell": {
     "cellMetadata": {
      "byteLimit": 2048000,
      "rowLimit": 10000
     },
     "inputWidgets": {},
     "nuid": "5c22ad22-2d2f-4511-b0e2-8c61175a9ad3",
     "showTitle": false,
     "title": ""
    }
   },
   "outputs": [
    {
     "output_type": "stream",
     "name": "stdout",
     "output_type": "stream",
     "text": [
      "+---+----+-----+---+--------+--------------+---------+--------+--------------+---------+-------+------+-------+------+----+--------+--------+----+------+-------------------+------------------------+\n|id |year|month|day|dep_time|sched_dep_time|dep_delay|arr_time|sched_arr_time|arr_delay|carrier|flight|tailnum|origin|dest|air_time|distance|hour|minute|time_hour          |name                    |\n+---+----+-----+---+--------+--------------+---------+--------+--------------+---------+-------+------+-------+------+----+--------+--------+----+------+-------------------+------------------------+\n|0  |2013|1    |1  |517.0   |515           |2.0      |830.0   |819           |11.0     |UA     |1545  |N14228 |EWR   |IAH |227.0   |1400    |5   |15    |2013-01-01 05:00:00|United Air Lines Inc.   |\n|1  |2013|1    |1  |533.0   |529           |4.0      |850.0   |830           |20.0     |UA     |1714  |N24211 |LGA   |IAH |227.0   |1416    |5   |29    |2013-01-01 05:00:00|United Air Lines Inc.   |\n|2  |2013|1    |1  |542.0   |540           |2.0      |923.0   |850           |33.0     |AA     |1141  |N619AA |JFK   |MIA |160.0   |1089    |5   |40    |2013-01-01 05:00:00|American Airlines Inc.  |\n|3  |2013|1    |1  |544.0   |545           |-1.0     |1004.0  |1022          |-18.0    |B6     |725   |N804JB |JFK   |BQN |183.0   |1576    |5   |45    |2013-01-01 05:00:00|JetBlue Airways         |\n|4  |2013|1    |1  |554.0   |600           |-6.0     |812.0   |837           |-25.0    |DL     |461   |N668DN |LGA   |ATL |116.0   |762     |6   |0     |2013-01-01 06:00:00|Delta Air Lines Inc.    |\n|5  |2013|1    |1  |554.0   |558           |-4.0     |740.0   |728           |12.0     |UA     |1696  |N39463 |EWR   |ORD |150.0   |719     |5   |58    |2013-01-01 05:00:00|United Air Lines Inc.   |\n|6  |2013|1    |1  |555.0   |600           |-5.0     |913.0   |854           |19.0     |B6     |507   |N516JB |EWR   |FLL |158.0   |1065    |6   |0     |2013-01-01 06:00:00|JetBlue Airways         |\n|7  |2013|1    |1  |557.0   |600           |-3.0     |709.0   |723           |-14.0    |EV     |5708  |N829AS |LGA   |IAD |53.0    |229     |6   |0     |2013-01-01 06:00:00|ExpressJet Airlines Inc.|\n|8  |2013|1    |1  |557.0   |600           |-3.0     |838.0   |846           |-8.0     |B6     |79    |N593JB |JFK   |MCO |140.0   |944     |6   |0     |2013-01-01 06:00:00|JetBlue Airways         |\n|9  |2013|1    |1  |558.0   |600           |-2.0     |753.0   |745           |8.0      |AA     |301   |N3ALAA |LGA   |ORD |138.0   |733     |6   |0     |2013-01-01 06:00:00|American Airlines Inc.  |\n+---+----+-----+---+--------+--------------+---------+--------+--------------+---------+-------+------+-------+------+----+--------+--------+----+------+-------------------+------------------------+\nonly showing top 10 rows\n\n"
     ]
    }
   ],
   "source": [
    "data.show(10, truncate=False)"
   ]
  },
  {
   "cell_type": "code",
   "execution_count": 0,
   "metadata": {
    "application/vnd.databricks.v1+cell": {
     "cellMetadata": {
      "byteLimit": 2048000,
      "rowLimit": 10000
     },
     "inputWidgets": {},
     "nuid": "37760898-9b39-49b5-9c6a-8846816f3322",
     "showTitle": false,
     "title": ""
    }
   },
   "outputs": [
    {
     "output_type": "display_data",
     "data": {
      "text/html": [
       "<div>\n",
       "<style scoped>\n",
       "    .dataframe tbody tr th:only-of-type {\n",
       "        vertical-align: middle;\n",
       "    }\n",
       "\n",
       "    .dataframe tbody tr th {\n",
       "        vertical-align: top;\n",
       "    }\n",
       "\n",
       "    .dataframe thead th {\n",
       "        text-align: right;\n",
       "    }\n",
       "</style>\n",
       "<table border=\"1\" class=\"dataframe\">\n",
       "  <thead>\n",
       "    <tr style=\"text-align: right;\">\n",
       "      <th></th>\n",
       "      <th>summary</th>\n",
       "      <th>id</th>\n",
       "      <th>year</th>\n",
       "      <th>month</th>\n",
       "      <th>day</th>\n",
       "      <th>dep_time</th>\n",
       "      <th>sched_dep_time</th>\n",
       "      <th>dep_delay</th>\n",
       "      <th>arr_time</th>\n",
       "      <th>sched_arr_time</th>\n",
       "      <th>...</th>\n",
       "      <th>carrier</th>\n",
       "      <th>flight</th>\n",
       "      <th>tailnum</th>\n",
       "      <th>origin</th>\n",
       "      <th>dest</th>\n",
       "      <th>air_time</th>\n",
       "      <th>distance</th>\n",
       "      <th>hour</th>\n",
       "      <th>minute</th>\n",
       "      <th>name</th>\n",
       "    </tr>\n",
       "  </thead>\n",
       "  <tbody>\n",
       "    <tr>\n",
       "      <th>0</th>\n",
       "      <td>count</td>\n",
       "      <td>336776</td>\n",
       "      <td>336776</td>\n",
       "      <td>336776</td>\n",
       "      <td>336776</td>\n",
       "      <td>328521</td>\n",
       "      <td>336776</td>\n",
       "      <td>328521</td>\n",
       "      <td>328063</td>\n",
       "      <td>336776</td>\n",
       "      <td>...</td>\n",
       "      <td>336776</td>\n",
       "      <td>336776</td>\n",
       "      <td>334264</td>\n",
       "      <td>336776</td>\n",
       "      <td>336776</td>\n",
       "      <td>327346</td>\n",
       "      <td>336776</td>\n",
       "      <td>336776</td>\n",
       "      <td>336776</td>\n",
       "      <td>336776</td>\n",
       "    </tr>\n",
       "    <tr>\n",
       "      <th>1</th>\n",
       "      <td>mean</td>\n",
       "      <td>168387.5</td>\n",
       "      <td>2013.0</td>\n",
       "      <td>6.548509988835309</td>\n",
       "      <td>15.71078699194717</td>\n",
       "      <td>1349.1099473093045</td>\n",
       "      <td>1344.2548400123524</td>\n",
       "      <td>12.639070257304708</td>\n",
       "      <td>1502.0549985825894</td>\n",
       "      <td>1536.380220086942</td>\n",
       "      <td>...</td>\n",
       "      <td>None</td>\n",
       "      <td>1971.9236198541464</td>\n",
       "      <td>None</td>\n",
       "      <td>None</td>\n",
       "      <td>None</td>\n",
       "      <td>150.68646019807787</td>\n",
       "      <td>1039.9126036297123</td>\n",
       "      <td>13.180247404803193</td>\n",
       "      <td>26.23009953203316</td>\n",
       "      <td>None</td>\n",
       "    </tr>\n",
       "    <tr>\n",
       "      <th>2</th>\n",
       "      <td>stddev</td>\n",
       "      <td>97219.00146576285</td>\n",
       "      <td>0.0</td>\n",
       "      <td>3.4144572446788914</td>\n",
       "      <td>8.768607101536851</td>\n",
       "      <td>488.28179100116057</td>\n",
       "      <td>467.33575573420916</td>\n",
       "      <td>40.210060892129945</td>\n",
       "      <td>533.2641319903772</td>\n",
       "      <td>497.4571415143949</td>\n",
       "      <td>...</td>\n",
       "      <td>None</td>\n",
       "      <td>1632.4719381393152</td>\n",
       "      <td>None</td>\n",
       "      <td>None</td>\n",
       "      <td>None</td>\n",
       "      <td>93.68830465900975</td>\n",
       "      <td>733.2330333236786</td>\n",
       "      <td>4.661315707848448</td>\n",
       "      <td>19.300845657412882</td>\n",
       "      <td>None</td>\n",
       "    </tr>\n",
       "    <tr>\n",
       "      <th>3</th>\n",
       "      <td>min</td>\n",
       "      <td>0</td>\n",
       "      <td>2013</td>\n",
       "      <td>1</td>\n",
       "      <td>1</td>\n",
       "      <td>1.0</td>\n",
       "      <td>106</td>\n",
       "      <td>-43.0</td>\n",
       "      <td>1.0</td>\n",
       "      <td>1</td>\n",
       "      <td>...</td>\n",
       "      <td>9E</td>\n",
       "      <td>1</td>\n",
       "      <td>D942DN</td>\n",
       "      <td>EWR</td>\n",
       "      <td>ABQ</td>\n",
       "      <td>20.0</td>\n",
       "      <td>17</td>\n",
       "      <td>1</td>\n",
       "      <td>0</td>\n",
       "      <td>AirTran Airways Corporation</td>\n",
       "    </tr>\n",
       "    <tr>\n",
       "      <th>4</th>\n",
       "      <td>max</td>\n",
       "      <td>336775</td>\n",
       "      <td>2013</td>\n",
       "      <td>12</td>\n",
       "      <td>31</td>\n",
       "      <td>2400.0</td>\n",
       "      <td>2359</td>\n",
       "      <td>1301.0</td>\n",
       "      <td>2400.0</td>\n",
       "      <td>2359</td>\n",
       "      <td>...</td>\n",
       "      <td>YV</td>\n",
       "      <td>8500</td>\n",
       "      <td>N9EAMQ</td>\n",
       "      <td>LGA</td>\n",
       "      <td>XNA</td>\n",
       "      <td>695.0</td>\n",
       "      <td>4983</td>\n",
       "      <td>23</td>\n",
       "      <td>59</td>\n",
       "      <td>Virgin America</td>\n",
       "    </tr>\n",
       "  </tbody>\n",
       "</table>\n",
       "<p>5 rows × 21 columns</p>\n",
       "</div>"
      ]
     },
     "metadata": {
      "application/vnd.databricks.v1+output": {
       "addedWidgets": {},
       "arguments": {},
       "data": "<div>\n<style scoped>\n    .dataframe tbody tr th:only-of-type {\n        vertical-align: middle;\n    }\n\n    .dataframe tbody tr th {\n        vertical-align: top;\n    }\n\n    .dataframe thead th {\n        text-align: right;\n    }\n</style>\n<table border=\"1\" class=\"dataframe\">\n  <thead>\n    <tr style=\"text-align: right;\">\n      <th></th>\n      <th>summary</th>\n      <th>id</th>\n      <th>year</th>\n      <th>month</th>\n      <th>day</th>\n      <th>dep_time</th>\n      <th>sched_dep_time</th>\n      <th>dep_delay</th>\n      <th>arr_time</th>\n      <th>sched_arr_time</th>\n      <th>...</th>\n      <th>carrier</th>\n      <th>flight</th>\n      <th>tailnum</th>\n      <th>origin</th>\n      <th>dest</th>\n      <th>air_time</th>\n      <th>distance</th>\n      <th>hour</th>\n      <th>minute</th>\n      <th>name</th>\n    </tr>\n  </thead>\n  <tbody>\n    <tr>\n      <th>0</th>\n      <td>count</td>\n      <td>336776</td>\n      <td>336776</td>\n      <td>336776</td>\n      <td>336776</td>\n      <td>328521</td>\n      <td>336776</td>\n      <td>328521</td>\n      <td>328063</td>\n      <td>336776</td>\n      <td>...</td>\n      <td>336776</td>\n      <td>336776</td>\n      <td>334264</td>\n      <td>336776</td>\n      <td>336776</td>\n      <td>327346</td>\n      <td>336776</td>\n      <td>336776</td>\n      <td>336776</td>\n      <td>336776</td>\n    </tr>\n    <tr>\n      <th>1</th>\n      <td>mean</td>\n      <td>168387.5</td>\n      <td>2013.0</td>\n      <td>6.548509988835309</td>\n      <td>15.71078699194717</td>\n      <td>1349.1099473093045</td>\n      <td>1344.2548400123524</td>\n      <td>12.639070257304708</td>\n      <td>1502.0549985825894</td>\n      <td>1536.380220086942</td>\n      <td>...</td>\n      <td>None</td>\n      <td>1971.9236198541464</td>\n      <td>None</td>\n      <td>None</td>\n      <td>None</td>\n      <td>150.68646019807787</td>\n      <td>1039.9126036297123</td>\n      <td>13.180247404803193</td>\n      <td>26.23009953203316</td>\n      <td>None</td>\n    </tr>\n    <tr>\n      <th>2</th>\n      <td>stddev</td>\n      <td>97219.00146576285</td>\n      <td>0.0</td>\n      <td>3.4144572446788914</td>\n      <td>8.768607101536851</td>\n      <td>488.28179100116057</td>\n      <td>467.33575573420916</td>\n      <td>40.210060892129945</td>\n      <td>533.2641319903772</td>\n      <td>497.4571415143949</td>\n      <td>...</td>\n      <td>None</td>\n      <td>1632.4719381393152</td>\n      <td>None</td>\n      <td>None</td>\n      <td>None</td>\n      <td>93.68830465900975</td>\n      <td>733.2330333236786</td>\n      <td>4.661315707848448</td>\n      <td>19.300845657412882</td>\n      <td>None</td>\n    </tr>\n    <tr>\n      <th>3</th>\n      <td>min</td>\n      <td>0</td>\n      <td>2013</td>\n      <td>1</td>\n      <td>1</td>\n      <td>1.0</td>\n      <td>106</td>\n      <td>-43.0</td>\n      <td>1.0</td>\n      <td>1</td>\n      <td>...</td>\n      <td>9E</td>\n      <td>1</td>\n      <td>D942DN</td>\n      <td>EWR</td>\n      <td>ABQ</td>\n      <td>20.0</td>\n      <td>17</td>\n      <td>1</td>\n      <td>0</td>\n      <td>AirTran Airways Corporation</td>\n    </tr>\n    <tr>\n      <th>4</th>\n      <td>max</td>\n      <td>336775</td>\n      <td>2013</td>\n      <td>12</td>\n      <td>31</td>\n      <td>2400.0</td>\n      <td>2359</td>\n      <td>1301.0</td>\n      <td>2400.0</td>\n      <td>2359</td>\n      <td>...</td>\n      <td>YV</td>\n      <td>8500</td>\n      <td>N9EAMQ</td>\n      <td>LGA</td>\n      <td>XNA</td>\n      <td>695.0</td>\n      <td>4983</td>\n      <td>23</td>\n      <td>59</td>\n      <td>Virgin America</td>\n    </tr>\n  </tbody>\n</table>\n<p>5 rows × 21 columns</p>\n</div>",
       "datasetInfos": [],
       "metadata": {},
       "removedWidgets": [],
       "textData": null,
       "type": "htmlSandbox"
      }
     },
     "output_type": "display_data"
    }
   ],
   "source": [
    "import pandas as pd\n",
    "\n",
    "\n",
    "describe_df = data.describe().toPandas()\n",
    "\n",
    "describe_df"
   ]
  },
  {
   "cell_type": "code",
   "execution_count": 0,
   "metadata": {
    "application/vnd.databricks.v1+cell": {
     "cellMetadata": {
      "byteLimit": 2048000,
      "rowLimit": 10000
     },
     "inputWidgets": {},
     "nuid": "b374b926-fe9f-44fa-97db-08145baf3588",
     "showTitle": false,
     "title": ""
    }
   },
   "outputs": [
    {
     "output_type": "display_data",
     "data": {
      "text/html": [
       "<div>\n",
       "<style scoped>\n",
       "    .dataframe tbody tr th:only-of-type {\n",
       "        vertical-align: middle;\n",
       "    }\n",
       "\n",
       "    .dataframe tbody tr th {\n",
       "        vertical-align: top;\n",
       "    }\n",
       "\n",
       "    .dataframe thead th {\n",
       "        text-align: right;\n",
       "    }\n",
       "</style>\n",
       "<table border=\"1\" class=\"dataframe\">\n",
       "  <thead>\n",
       "    <tr style=\"text-align: right;\">\n",
       "      <th></th>\n",
       "      <th>0</th>\n",
       "      <th>1</th>\n",
       "      <th>2</th>\n",
       "      <th>3</th>\n",
       "      <th>4</th>\n",
       "    </tr>\n",
       "  </thead>\n",
       "  <tbody>\n",
       "    <tr>\n",
       "      <th>summary</th>\n",
       "      <td>count</td>\n",
       "      <td>mean</td>\n",
       "      <td>stddev</td>\n",
       "      <td>min</td>\n",
       "      <td>max</td>\n",
       "    </tr>\n",
       "    <tr>\n",
       "      <th>id</th>\n",
       "      <td>336776</td>\n",
       "      <td>168387.5</td>\n",
       "      <td>97219.00146576285</td>\n",
       "      <td>0</td>\n",
       "      <td>336775</td>\n",
       "    </tr>\n",
       "    <tr>\n",
       "      <th>year</th>\n",
       "      <td>336776</td>\n",
       "      <td>2013.0</td>\n",
       "      <td>0.0</td>\n",
       "      <td>2013</td>\n",
       "      <td>2013</td>\n",
       "    </tr>\n",
       "    <tr>\n",
       "      <th>month</th>\n",
       "      <td>336776</td>\n",
       "      <td>6.548509988835309</td>\n",
       "      <td>3.4144572446788914</td>\n",
       "      <td>1</td>\n",
       "      <td>12</td>\n",
       "    </tr>\n",
       "    <tr>\n",
       "      <th>day</th>\n",
       "      <td>336776</td>\n",
       "      <td>15.71078699194717</td>\n",
       "      <td>8.768607101536851</td>\n",
       "      <td>1</td>\n",
       "      <td>31</td>\n",
       "    </tr>\n",
       "    <tr>\n",
       "      <th>dep_time</th>\n",
       "      <td>328521</td>\n",
       "      <td>1349.1099473093045</td>\n",
       "      <td>488.28179100116057</td>\n",
       "      <td>1.0</td>\n",
       "      <td>2400.0</td>\n",
       "    </tr>\n",
       "    <tr>\n",
       "      <th>sched_dep_time</th>\n",
       "      <td>336776</td>\n",
       "      <td>1344.2548400123524</td>\n",
       "      <td>467.33575573420916</td>\n",
       "      <td>106</td>\n",
       "      <td>2359</td>\n",
       "    </tr>\n",
       "    <tr>\n",
       "      <th>dep_delay</th>\n",
       "      <td>328521</td>\n",
       "      <td>12.639070257304708</td>\n",
       "      <td>40.210060892129945</td>\n",
       "      <td>-43.0</td>\n",
       "      <td>1301.0</td>\n",
       "    </tr>\n",
       "    <tr>\n",
       "      <th>arr_time</th>\n",
       "      <td>328063</td>\n",
       "      <td>1502.0549985825894</td>\n",
       "      <td>533.2641319903772</td>\n",
       "      <td>1.0</td>\n",
       "      <td>2400.0</td>\n",
       "    </tr>\n",
       "    <tr>\n",
       "      <th>sched_arr_time</th>\n",
       "      <td>336776</td>\n",
       "      <td>1536.380220086942</td>\n",
       "      <td>497.4571415143949</td>\n",
       "      <td>1</td>\n",
       "      <td>2359</td>\n",
       "    </tr>\n",
       "    <tr>\n",
       "      <th>arr_delay</th>\n",
       "      <td>327346</td>\n",
       "      <td>6.89537675731489</td>\n",
       "      <td>44.63329169019391</td>\n",
       "      <td>-86.0</td>\n",
       "      <td>1272.0</td>\n",
       "    </tr>\n",
       "    <tr>\n",
       "      <th>carrier</th>\n",
       "      <td>336776</td>\n",
       "      <td>None</td>\n",
       "      <td>None</td>\n",
       "      <td>9E</td>\n",
       "      <td>YV</td>\n",
       "    </tr>\n",
       "    <tr>\n",
       "      <th>flight</th>\n",
       "      <td>336776</td>\n",
       "      <td>1971.9236198541464</td>\n",
       "      <td>1632.4719381393152</td>\n",
       "      <td>1</td>\n",
       "      <td>8500</td>\n",
       "    </tr>\n",
       "    <tr>\n",
       "      <th>tailnum</th>\n",
       "      <td>334264</td>\n",
       "      <td>None</td>\n",
       "      <td>None</td>\n",
       "      <td>D942DN</td>\n",
       "      <td>N9EAMQ</td>\n",
       "    </tr>\n",
       "    <tr>\n",
       "      <th>origin</th>\n",
       "      <td>336776</td>\n",
       "      <td>None</td>\n",
       "      <td>None</td>\n",
       "      <td>EWR</td>\n",
       "      <td>LGA</td>\n",
       "    </tr>\n",
       "    <tr>\n",
       "      <th>dest</th>\n",
       "      <td>336776</td>\n",
       "      <td>None</td>\n",
       "      <td>None</td>\n",
       "      <td>ABQ</td>\n",
       "      <td>XNA</td>\n",
       "    </tr>\n",
       "    <tr>\n",
       "      <th>air_time</th>\n",
       "      <td>327346</td>\n",
       "      <td>150.68646019807787</td>\n",
       "      <td>93.68830465900975</td>\n",
       "      <td>20.0</td>\n",
       "      <td>695.0</td>\n",
       "    </tr>\n",
       "    <tr>\n",
       "      <th>distance</th>\n",
       "      <td>336776</td>\n",
       "      <td>1039.9126036297123</td>\n",
       "      <td>733.2330333236786</td>\n",
       "      <td>17</td>\n",
       "      <td>4983</td>\n",
       "    </tr>\n",
       "    <tr>\n",
       "      <th>hour</th>\n",
       "      <td>336776</td>\n",
       "      <td>13.180247404803193</td>\n",
       "      <td>4.661315707848448</td>\n",
       "      <td>1</td>\n",
       "      <td>23</td>\n",
       "    </tr>\n",
       "    <tr>\n",
       "      <th>minute</th>\n",
       "      <td>336776</td>\n",
       "      <td>26.23009953203316</td>\n",
       "      <td>19.300845657412882</td>\n",
       "      <td>0</td>\n",
       "      <td>59</td>\n",
       "    </tr>\n",
       "    <tr>\n",
       "      <th>name</th>\n",
       "      <td>336776</td>\n",
       "      <td>None</td>\n",
       "      <td>None</td>\n",
       "      <td>AirTran Airways Corporation</td>\n",
       "      <td>Virgin America</td>\n",
       "    </tr>\n",
       "  </tbody>\n",
       "</table>\n",
       "</div>"
      ]
     },
     "metadata": {
      "application/vnd.databricks.v1+output": {
       "addedWidgets": {},
       "arguments": {},
       "data": "<div>\n<style scoped>\n    .dataframe tbody tr th:only-of-type {\n        vertical-align: middle;\n    }\n\n    .dataframe tbody tr th {\n        vertical-align: top;\n    }\n\n    .dataframe thead th {\n        text-align: right;\n    }\n</style>\n<table border=\"1\" class=\"dataframe\">\n  <thead>\n    <tr style=\"text-align: right;\">\n      <th></th>\n      <th>0</th>\n      <th>1</th>\n      <th>2</th>\n      <th>3</th>\n      <th>4</th>\n    </tr>\n  </thead>\n  <tbody>\n    <tr>\n      <th>summary</th>\n      <td>count</td>\n      <td>mean</td>\n      <td>stddev</td>\n      <td>min</td>\n      <td>max</td>\n    </tr>\n    <tr>\n      <th>id</th>\n      <td>336776</td>\n      <td>168387.5</td>\n      <td>97219.00146576285</td>\n      <td>0</td>\n      <td>336775</td>\n    </tr>\n    <tr>\n      <th>year</th>\n      <td>336776</td>\n      <td>2013.0</td>\n      <td>0.0</td>\n      <td>2013</td>\n      <td>2013</td>\n    </tr>\n    <tr>\n      <th>month</th>\n      <td>336776</td>\n      <td>6.548509988835309</td>\n      <td>3.4144572446788914</td>\n      <td>1</td>\n      <td>12</td>\n    </tr>\n    <tr>\n      <th>day</th>\n      <td>336776</td>\n      <td>15.71078699194717</td>\n      <td>8.768607101536851</td>\n      <td>1</td>\n      <td>31</td>\n    </tr>\n    <tr>\n      <th>dep_time</th>\n      <td>328521</td>\n      <td>1349.1099473093045</td>\n      <td>488.28179100116057</td>\n      <td>1.0</td>\n      <td>2400.0</td>\n    </tr>\n    <tr>\n      <th>sched_dep_time</th>\n      <td>336776</td>\n      <td>1344.2548400123524</td>\n      <td>467.33575573420916</td>\n      <td>106</td>\n      <td>2359</td>\n    </tr>\n    <tr>\n      <th>dep_delay</th>\n      <td>328521</td>\n      <td>12.639070257304708</td>\n      <td>40.210060892129945</td>\n      <td>-43.0</td>\n      <td>1301.0</td>\n    </tr>\n    <tr>\n      <th>arr_time</th>\n      <td>328063</td>\n      <td>1502.0549985825894</td>\n      <td>533.2641319903772</td>\n      <td>1.0</td>\n      <td>2400.0</td>\n    </tr>\n    <tr>\n      <th>sched_arr_time</th>\n      <td>336776</td>\n      <td>1536.380220086942</td>\n      <td>497.4571415143949</td>\n      <td>1</td>\n      <td>2359</td>\n    </tr>\n    <tr>\n      <th>arr_delay</th>\n      <td>327346</td>\n      <td>6.89537675731489</td>\n      <td>44.63329169019391</td>\n      <td>-86.0</td>\n      <td>1272.0</td>\n    </tr>\n    <tr>\n      <th>carrier</th>\n      <td>336776</td>\n      <td>None</td>\n      <td>None</td>\n      <td>9E</td>\n      <td>YV</td>\n    </tr>\n    <tr>\n      <th>flight</th>\n      <td>336776</td>\n      <td>1971.9236198541464</td>\n      <td>1632.4719381393152</td>\n      <td>1</td>\n      <td>8500</td>\n    </tr>\n    <tr>\n      <th>tailnum</th>\n      <td>334264</td>\n      <td>None</td>\n      <td>None</td>\n      <td>D942DN</td>\n      <td>N9EAMQ</td>\n    </tr>\n    <tr>\n      <th>origin</th>\n      <td>336776</td>\n      <td>None</td>\n      <td>None</td>\n      <td>EWR</td>\n      <td>LGA</td>\n    </tr>\n    <tr>\n      <th>dest</th>\n      <td>336776</td>\n      <td>None</td>\n      <td>None</td>\n      <td>ABQ</td>\n      <td>XNA</td>\n    </tr>\n    <tr>\n      <th>air_time</th>\n      <td>327346</td>\n      <td>150.68646019807787</td>\n      <td>93.68830465900975</td>\n      <td>20.0</td>\n      <td>695.0</td>\n    </tr>\n    <tr>\n      <th>distance</th>\n      <td>336776</td>\n      <td>1039.9126036297123</td>\n      <td>733.2330333236786</td>\n      <td>17</td>\n      <td>4983</td>\n    </tr>\n    <tr>\n      <th>hour</th>\n      <td>336776</td>\n      <td>13.180247404803193</td>\n      <td>4.661315707848448</td>\n      <td>1</td>\n      <td>23</td>\n    </tr>\n    <tr>\n      <th>minute</th>\n      <td>336776</td>\n      <td>26.23009953203316</td>\n      <td>19.300845657412882</td>\n      <td>0</td>\n      <td>59</td>\n    </tr>\n    <tr>\n      <th>name</th>\n      <td>336776</td>\n      <td>None</td>\n      <td>None</td>\n      <td>AirTran Airways Corporation</td>\n      <td>Virgin America</td>\n    </tr>\n  </tbody>\n</table>\n</div>",
       "datasetInfos": [],
       "metadata": {},
       "removedWidgets": [],
       "textData": null,
       "type": "htmlSandbox"
      }
     },
     "output_type": "display_data"
    }
   ],
   "source": [
    "transposed_df = describe_df.transpose()\n",
    "\n",
    "transposed_df"
   ]
  },
  {
   "cell_type": "markdown",
   "metadata": {
    "application/vnd.databricks.v1+cell": {
     "cellMetadata": {},
     "inputWidgets": {},
     "nuid": "bde57cec-4514-420e-87aa-76b74c7aef77",
     "showTitle": false,
     "title": ""
    }
   },
   "source": [
    "## Perguntas\n",
    "### 1. Qual é o número total de voos no conjunto de dados?"
   ]
  },
  {
   "cell_type": "code",
   "execution_count": 0,
   "metadata": {
    "application/vnd.databricks.v1+cell": {
     "cellMetadata": {
      "byteLimit": 2048000,
      "rowLimit": 10000
     },
     "inputWidgets": {},
     "nuid": "6aa43c15-8efa-4d43-aa13-c1bca6fca6d5",
     "showTitle": false,
     "title": ""
    }
   },
   "outputs": [
    {
     "output_type": "stream",
     "name": "stdout",
     "output_type": "stream",
     "text": [
      "Out[18]: 336776"
     ]
    }
   ],
   "source": [
    "data.count()"
   ]
  },
  {
   "cell_type": "markdown",
   "metadata": {
    "application/vnd.databricks.v1+cell": {
     "cellMetadata": {},
     "inputWidgets": {},
     "nuid": "b190ef73-b8ac-43ea-89a4-52ff48aa8554",
     "showTitle": false,
     "title": ""
    }
   },
   "source": [
    "### 2. Quantos voos foram cancelados? (Considerando que voos cancelados têm `dep_time` e `arr_time` nulos)"
   ]
  },
  {
   "cell_type": "code",
   "execution_count": 0,
   "metadata": {
    "application/vnd.databricks.v1+cell": {
     "cellMetadata": {
      "byteLimit": 2048000,
      "rowLimit": 10000
     },
     "inputWidgets": {},
     "nuid": "46d3dd11-11d2-42e0-9648-e426a70587ff",
     "showTitle": false,
     "title": ""
    }
   },
   "outputs": [],
   "source": [
    "from pyspark.sql import Window\n",
    "from pyspark.sql.functions import avg, col, date_format, dayofmonth, month, count, when, row_number, stddev"
   ]
  },
  {
   "cell_type": "code",
   "execution_count": 0,
   "metadata": {
    "application/vnd.databricks.v1+cell": {
     "cellMetadata": {
      "byteLimit": 2048000,
      "rowLimit": 10000
     },
     "inputWidgets": {},
     "nuid": "b931e28d-a714-4212-99e6-14e5a581d8f1",
     "showTitle": false,
     "title": ""
    }
   },
   "outputs": [
    {
     "output_type": "stream",
     "name": "stdout",
     "output_type": "stream",
     "text": [
      "Out[20]: 8255"
     ]
    }
   ],
   "source": [
    "data.filter(col('dep_time').isNull() & col('arr_time').isNull()).count()"
   ]
  },
  {
   "cell_type": "markdown",
   "metadata": {
    "application/vnd.databricks.v1+cell": {
     "cellMetadata": {},
     "inputWidgets": {},
     "nuid": "83fe4f70-127b-4818-8477-af303f8d31dd",
     "showTitle": false,
     "title": ""
    }
   },
   "source": [
    "### 3. Qual é o atraso médio na partida dos voos (dep_delay)?"
   ]
  },
  {
   "cell_type": "code",
   "execution_count": 0,
   "metadata": {
    "application/vnd.databricks.v1+cell": {
     "cellMetadata": {
      "byteLimit": 2048000,
      "rowLimit": 10000
     },
     "inputWidgets": {},
     "nuid": "61b9dd6d-ad5a-4839-9b0e-ae2c34bbbf26",
     "showTitle": false,
     "title": ""
    }
   },
   "outputs": [
    {
     "output_type": "stream",
     "name": "stdout",
     "output_type": "stream",
     "text": [
      "Out[25]: 12.639070257304708"
     ]
    }
   ],
   "source": [
    "data.select(avg(\"dep_delay\")).first()[0]"
   ]
  },
  {
   "cell_type": "markdown",
   "metadata": {
    "application/vnd.databricks.v1+cell": {
     "cellMetadata": {},
     "inputWidgets": {},
     "nuid": "0eee9dfa-9b09-4883-94f4-009cefd513b3",
     "showTitle": false,
     "title": ""
    }
   },
   "source": [
    "### 4. Quais são os 5 aeroportos com maior número de pousos?"
   ]
  },
  {
   "cell_type": "code",
   "execution_count": 0,
   "metadata": {
    "application/vnd.databricks.v1+cell": {
     "cellMetadata": {
      "byteLimit": 2048000,
      "rowLimit": 10000
     },
     "inputWidgets": {},
     "nuid": "ad94533c-9959-4810-84d5-c0db5f47e30e",
     "showTitle": false,
     "title": ""
    }
   },
   "outputs": [
    {
     "output_type": "stream",
     "name": "stdout",
     "output_type": "stream",
     "text": [
      "+----+-----+\n|dest|count|\n+----+-----+\n|ORD |17283|\n|ATL |17215|\n|LAX |16174|\n|BOS |15508|\n|MCO |14082|\n+----+-----+\n\n"
     ]
    }
   ],
   "source": [
    "data.groupBy('dest').count().orderBy(col('count').desc()).limit(5).show(truncate=False)"
   ]
  },
  {
   "cell_type": "markdown",
   "metadata": {
    "application/vnd.databricks.v1+cell": {
     "cellMetadata": {},
     "inputWidgets": {},
     "nuid": "b200050e-b464-424a-862e-f3357ade96e6",
     "showTitle": false,
     "title": ""
    }
   },
   "source": [
    "### 5. Qual é a rota mais frequente (par origin-dest)?"
   ]
  },
  {
   "cell_type": "code",
   "execution_count": 0,
   "metadata": {
    "application/vnd.databricks.v1+cell": {
     "cellMetadata": {
      "byteLimit": 2048000,
      "rowLimit": 10000
     },
     "inputWidgets": {},
     "nuid": "5899da2c-f1de-43d3-8347-557ff0ebf148",
     "showTitle": false,
     "title": ""
    }
   },
   "outputs": [
    {
     "output_type": "stream",
     "name": "stdout",
     "output_type": "stream",
     "text": [
      "Out[32]: Row(origin='JFK', dest='LAX', count=11262)"
     ]
    }
   ],
   "source": [
    "data.groupBy('origin', 'dest').count().orderBy(col('count').desc()).first()"
   ]
  },
  {
   "cell_type": "markdown",
   "metadata": {
    "application/vnd.databricks.v1+cell": {
     "cellMetadata": {},
     "inputWidgets": {},
     "nuid": "8c070d12-8f25-484b-8643-6b0b8a44fdef",
     "showTitle": false,
     "title": ""
    }
   },
   "source": [
    "### 6. Quais são as 5 companhias aéreas com maior tempo médio de atraso na chegada?"
   ]
  },
  {
   "cell_type": "code",
   "execution_count": 0,
   "metadata": {
    "application/vnd.databricks.v1+cell": {
     "cellMetadata": {
      "byteLimit": 2048000,
      "rowLimit": 10000
     },
     "inputWidgets": {},
     "nuid": "981758de-dfdd-49a4-91e0-5424b5fdf386",
     "showTitle": false,
     "title": ""
    }
   },
   "outputs": [
    {
     "output_type": "stream",
     "name": "stdout",
     "output_type": "stream",
     "text": [
      "+-------+------------------+\n|carrier|media_arr_delay   |\n+-------+------------------+\n|F9     |21.920704845814978|\n|FL     |20.115905511811025|\n|EV     |15.79643108710965 |\n|YV     |15.556985294117647|\n|OO     |11.931034482758621|\n+-------+------------------+\n\n"
     ]
    }
   ],
   "source": [
    "data.groupBy('carrier').agg(avg('arr_delay').alias('media_arr_delay')).orderBy(\n",
    "    col('media_arr_delay').desc()\n",
    ").limit(5).show(truncate=False)"
   ]
  },
  {
   "cell_type": "markdown",
   "metadata": {
    "application/vnd.databricks.v1+cell": {
     "cellMetadata": {},
     "inputWidgets": {},
     "nuid": "edc350f6-8958-4f06-be7f-3cfb6700b8f9",
     "showTitle": false,
     "title": ""
    }
   },
   "source": [
    "### 7. Qual é o dia da semana com maior número de voos?"
   ]
  },
  {
   "cell_type": "code",
   "execution_count": 0,
   "metadata": {
    "application/vnd.databricks.v1+cell": {
     "cellMetadata": {
      "byteLimit": 2048000,
      "rowLimit": 10000
     },
     "inputWidgets": {},
     "nuid": "7425697a-d7c9-4309-93f7-92b0a7e806d0",
     "showTitle": false,
     "title": ""
    }
   },
   "outputs": [
    {
     "output_type": "stream",
     "name": "stdout",
     "output_type": "stream",
     "text": [
      "Out[40]: Row(day_of_week='Mon', count=50690)"
     ]
    }
   ],
   "source": [
    "data = data.withColumn('day_of_week', date_format('time_hour', 'E'))\n",
    "\n",
    "data.groupBy('day_of_week').count().orderBy(col('count').desc()).first()\n"
   ]
  },
  {
   "cell_type": "markdown",
   "metadata": {
    "application/vnd.databricks.v1+cell": {
     "cellMetadata": {},
     "inputWidgets": {},
     "nuid": "ffa78f26-13fe-471b-88d1-7864a9f92399",
     "showTitle": false,
     "title": ""
    }
   },
   "source": [
    "### 8. Qual o percentual mensal dos voos tiveram atraso na partida superior a 30 minutos?"
   ]
  },
  {
   "cell_type": "code",
   "execution_count": 0,
   "metadata": {
    "application/vnd.databricks.v1+cell": {
     "cellMetadata": {
      "byteLimit": 2048000,
      "rowLimit": 10000
     },
     "inputWidgets": {},
     "nuid": "95dc32c8-caa3-4969-88a0-60a82ceb2501",
     "showTitle": false,
     "title": ""
    }
   },
   "outputs": [
    {
     "output_type": "stream",
     "name": "stdout",
     "output_type": "stream",
     "text": [
      "+-----+----------+------------------+\n|month|total_voos| percentual_atraso|\n+-----+----------+------------------+\n|    1|     27004|12.405569545252556|\n|    2|     24951|12.752995871908942|\n|    3|     28834|14.944163140736629|\n|    4|     28330|15.993646311330744|\n|    5|     28796|15.335463258785943|\n|    6|     28243| 20.24218390397621|\n|    7|     29425| 20.97875955819881|\n|    8|     29327|14.450847342039758|\n|    9|     27574|  8.77275694494814|\n|   10|     28889| 9.335733324102598|\n|   11|     27268| 8.757517969781428|\n|   12|     28135|17.312955393637818|\n+-----+----------+------------------+\n\n"
     ]
    }
   ],
   "source": [
    "(\n",
    "    data.withColumn('month', month('time_hour'))\n",
    "    .groupBy('month')\n",
    "    .agg(\n",
    "        count('*').alias('total_voos'),\n",
    "        (count(when(col('dep_delay') > 30, True)) / count('*') * 100).alias(\n",
    "            'percentual_atraso'\n",
    "        ),\n",
    "    )\n",
    "    .orderBy('month')\n",
    "    .show()\n",
    ")\n"
   ]
  },
  {
   "cell_type": "markdown",
   "metadata": {
    "application/vnd.databricks.v1+cell": {
     "cellMetadata": {},
     "inputWidgets": {},
     "nuid": "1a82eec1-4999-45ec-be56-ad0fe2eb73e8",
     "showTitle": false,
     "title": ""
    }
   },
   "source": [
    "### 9. Qual a origem mais comum para voos que pousaram em Seattle (SEA)?"
   ]
  },
  {
   "cell_type": "code",
   "execution_count": 0,
   "metadata": {
    "application/vnd.databricks.v1+cell": {
     "cellMetadata": {
      "byteLimit": 2048000,
      "rowLimit": 10000
     },
     "inputWidgets": {},
     "nuid": "a1fe0a02-fe39-4685-b0dd-d075831abe81",
     "showTitle": false,
     "title": ""
    }
   },
   "outputs": [
    {
     "output_type": "stream",
     "name": "stdout",
     "output_type": "stream",
     "text": [
      "Out[41]: Row(origin='JFK', count=2092)"
     ]
    }
   ],
   "source": [
    "(\n",
    "    data.filter(col('dest') == 'SEA')\n",
    "    .groupBy('origin')\n",
    "    .count()\n",
    "    .orderBy(col('count').desc())\n",
    "    .first()\n",
    ")"
   ]
  },
  {
   "cell_type": "markdown",
   "metadata": {
    "application/vnd.databricks.v1+cell": {
     "cellMetadata": {},
     "inputWidgets": {},
     "nuid": "6a8dc128-c1dd-415e-8344-b25dc19da290",
     "showTitle": false,
     "title": ""
    }
   },
   "source": [
    "### 10. Qual é a média de atraso na partida dos voos (dep_delay) para cada dia da semana?"
   ]
  },
  {
   "cell_type": "code",
   "execution_count": 0,
   "metadata": {
    "application/vnd.databricks.v1+cell": {
     "cellMetadata": {
      "byteLimit": 2048000,
      "rowLimit": 10000
     },
     "inputWidgets": {},
     "nuid": "49f2120f-dbcb-4e59-bc86-d46b4c1bcdbb",
     "showTitle": false,
     "title": ""
    }
   },
   "outputs": [
    {
     "output_type": "stream",
     "name": "stdout",
     "output_type": "stream",
     "text": [
      "+-----------+------------------+\n|day_of_week|   media_dep_delay|\n+-----------+------------------+\n|        Thu|16.148919990957108|\n|        Mon|14.778936729330908|\n|        Fri| 14.69605749486653|\n|        Wed|11.803512219083876|\n|        Sun|11.589531801152422|\n|        Tue|10.631682565455652|\n|        Sat| 7.650502333676133|\n+-----------+------------------+\n\n"
     ]
    }
   ],
   "source": [
    "(\n",
    "    data.groupBy('day_of_week')\n",
    "    .agg(avg('dep_delay').alias('media_dep_delay'))\n",
    "    .orderBy('media_dep_delay', ascending=False).show()\n",
    ")"
   ]
  },
  {
   "cell_type": "markdown",
   "metadata": {
    "application/vnd.databricks.v1+cell": {
     "cellMetadata": {},
     "inputWidgets": {},
     "nuid": "c9015d34-2e5f-4200-a7fd-a7318caeff9d",
     "showTitle": false,
     "title": ""
    }
   },
   "source": [
    "### 11. Qual é a rota que teve o maior tempo de voo médio (air_time)?"
   ]
  },
  {
   "cell_type": "code",
   "execution_count": 0,
   "metadata": {
    "application/vnd.databricks.v1+cell": {
     "cellMetadata": {
      "byteLimit": 2048000,
      "rowLimit": 10000
     },
     "inputWidgets": {},
     "nuid": "65f414d0-f81b-4304-9937-5f33066b74fe",
     "showTitle": false,
     "title": ""
    }
   },
   "outputs": [
    {
     "output_type": "stream",
     "name": "stdout",
     "output_type": "stream",
     "text": [
      "Out[47]: Row(origin='JFK', dest='HNL', avg_air_time=623.0877192982456)"
     ]
    }
   ],
   "source": [
    "(\n",
    "    data.groupBy('origin', 'dest')\n",
    "    .agg(avg('air_time').alias('avg_air_time'))\n",
    "    .orderBy(col('avg_air_time').desc())\n",
    "    .first()\n",
    ")\n"
   ]
  },
  {
   "cell_type": "markdown",
   "metadata": {
    "application/vnd.databricks.v1+cell": {
     "cellMetadata": {},
     "inputWidgets": {},
     "nuid": "1fb94773-6f19-4bd4-bd3a-e54e01efae85",
     "showTitle": false,
     "title": ""
    }
   },
   "source": [
    "### 12. Para cada aeroporto de origem, qual é o aeroporto de destino mais comum?"
   ]
  },
  {
   "cell_type": "code",
   "execution_count": 0,
   "metadata": {
    "application/vnd.databricks.v1+cell": {
     "cellMetadata": {
      "byteLimit": 2048000,
      "rowLimit": 10000
     },
     "inputWidgets": {},
     "nuid": "2794233b-89d0-4045-85c3-5d8143cf2203",
     "showTitle": false,
     "title": ""
    }
   },
   "outputs": [
    {
     "output_type": "stream",
     "name": "stdout",
     "output_type": "stream",
     "text": [
      "+------+----+--------+\n|origin|dest|num_voos|\n+------+----+--------+\n|   EWR| ORD|    6100|\n|   JFK| LAX|   11262|\n|   LGA| ATL|   10263|\n+------+----+--------+\n\n"
     ]
    }
   ],
   "source": [
    "(\n",
    "    data.groupBy('origin', 'dest')\n",
    "    .agg(count('*').alias('num_voos'))\n",
    "    .withColumn(\n",
    "        'rank',\n",
    "        row_number().over(\n",
    "            Window.partitionBy('origin').orderBy(col('num_voos').desc())\n",
    "        ),\n",
    "    )\n",
    "    .filter(col('rank') == 1)\n",
    "    .select('origin', 'dest', 'num_voos').show()\n",
    ")\n"
   ]
  },
  {
   "cell_type": "markdown",
   "metadata": {
    "application/vnd.databricks.v1+cell": {
     "cellMetadata": {},
     "inputWidgets": {},
     "nuid": "e204f02d-d85c-4a1a-8959-df7ed2bfc4b3",
     "showTitle": false,
     "title": ""
    }
   },
   "source": [
    "### 13. Quais são as 3 rotas que tiveram a maior variação no tempo médio de voo (air_time) ?"
   ]
  },
  {
   "cell_type": "code",
   "execution_count": 0,
   "metadata": {
    "application/vnd.databricks.v1+cell": {
     "cellMetadata": {
      "byteLimit": 2048000,
      "rowLimit": 10000
     },
     "inputWidgets": {},
     "nuid": "f321f6db-8cc6-4b17-bb52-20ffafde6638",
     "showTitle": false,
     "title": ""
    }
   },
   "outputs": [
    {
     "output_type": "stream",
     "name": "stdout",
     "output_type": "stream",
     "text": [
      "+------+----+------------------+\n|origin|dest|   stddev_air_time|\n+------+----+------------------+\n|   LGA| MYR| 25.32455988429677|\n|   EWR| HNL|21.266135468474193|\n|   JFK| HNL|20.688824842787028|\n+------+----+------------------+\n\n"
     ]
    }
   ],
   "source": [
    "(\n",
    "    data.groupBy('origin', 'dest')\n",
    "    .agg(stddev('air_time').alias('stddev_air_time'))\n",
    "    .orderBy(col('stddev_air_time').desc())\n",
    "    .limit(3).show()\n",
    ")\n"
   ]
  },
  {
   "cell_type": "markdown",
   "metadata": {
    "application/vnd.databricks.v1+cell": {
     "cellMetadata": {},
     "inputWidgets": {},
     "nuid": "2867d180-c41d-4f25-bc7a-7552cf5bb006",
     "showTitle": false,
     "title": ""
    }
   },
   "source": [
    "### 14. Qual é a média de atraso na chegada para voos que tiveram atraso na partida superior a 1 hora?"
   ]
  },
  {
   "cell_type": "code",
   "execution_count": 0,
   "metadata": {
    "application/vnd.databricks.v1+cell": {
     "cellMetadata": {
      "byteLimit": 2048000,
      "rowLimit": 10000
     },
     "inputWidgets": {},
     "nuid": "a48c9aff-8a76-4184-bd81-4c31f93227ec",
     "showTitle": false,
     "title": ""
    }
   },
   "outputs": [
    {
     "output_type": "stream",
     "name": "stdout",
     "output_type": "stream",
     "text": [
      "+------------------+\n|     avg_arr_delay|\n+------------------+\n|119.04880549963919|\n+------------------+\n\n"
     ]
    }
   ],
   "source": [
    "(\n",
    "    data.filter(col('dep_delay') > 60).agg(\n",
    "        avg('arr_delay').alias('avg_arr_delay')\n",
    "    ).show()\n",
    ")\n"
   ]
  },
  {
   "cell_type": "markdown",
   "metadata": {
    "application/vnd.databricks.v1+cell": {
     "cellMetadata": {},
     "inputWidgets": {},
     "nuid": "92850c42-48cf-4067-98c1-06015fdf0bcb",
     "showTitle": false,
     "title": ""
    }
   },
   "source": [
    "### 15. Qual é a média de voos diários para cada mês do ano?"
   ]
  },
  {
   "cell_type": "code",
   "execution_count": 0,
   "metadata": {
    "application/vnd.databricks.v1+cell": {
     "cellMetadata": {
      "byteLimit": 2048000,
      "rowLimit": 10000
     },
     "inputWidgets": {},
     "nuid": "12fb8252-d307-4410-916f-cd581a090aaa",
     "showTitle": false,
     "title": ""
    }
   },
   "outputs": [
    {
     "output_type": "stream",
     "name": "stdout",
     "output_type": "stream",
     "text": [
      "+-----+-----------------+\n|month| avg_voos_diarios|\n+-----+-----------------+\n|    1|871.0967741935484|\n|    2|891.1071428571429|\n|    3|930.1290322580645|\n|    4|944.3333333333334|\n|    5|928.9032258064516|\n|    6|941.4333333333333|\n|    7|949.1935483870968|\n|    8|946.0322580645161|\n|    9|919.1333333333333|\n|   10|931.9032258064516|\n|   11|908.9333333333333|\n|   12|907.5806451612904|\n+-----+-----------------+\n\n"
     ]
    }
   ],
   "source": [
    "(\n",
    "    data.groupBy(\n",
    "        month('time_hour').alias('month'), dayofmonth('time_hour').alias('day')\n",
    "    )\n",
    "    .agg(count('*').alias('total_voos'))\n",
    "    .groupBy('month')\n",
    "    .agg(avg('total_voos').alias('avg_voos_diarios'))\n",
    "    .orderBy('month').show()\n",
    ")\n"
   ]
  },
  {
   "cell_type": "markdown",
   "metadata": {
    "application/vnd.databricks.v1+cell": {
     "cellMetadata": {},
     "inputWidgets": {},
     "nuid": "785e4f7d-3b36-4e4d-99b8-16e9411dc99a",
     "showTitle": false,
     "title": ""
    }
   },
   "source": [
    "### 16. Quais são as 3 rotas mais comuns que tiveram atrasos na chegada superiores a 30 minutos?"
   ]
  },
  {
   "cell_type": "code",
   "execution_count": 0,
   "metadata": {
    "application/vnd.databricks.v1+cell": {
     "cellMetadata": {
      "byteLimit": 2048000,
      "rowLimit": 10000
     },
     "inputWidgets": {},
     "nuid": "65531a81-6e34-4819-b30d-ac5c4ab40f79",
     "showTitle": false,
     "title": ""
    }
   },
   "outputs": [
    {
     "output_type": "stream",
     "name": "stdout",
     "output_type": "stream",
     "text": [
      "+------+----+--------+\n|origin|dest|num_voos|\n+------+----+--------+\n|   LGA| ATL|    1563|\n|   JFK| LAX|    1286|\n|   LGA| ORD|    1188|\n+------+----+--------+\n\n"
     ]
    }
   ],
   "source": [
    "(\n",
    "    data.filter(col('arr_delay') > 30)\n",
    "    .groupBy('origin', 'dest')\n",
    "    .agg(count('*').alias('num_voos'))\n",
    "    .orderBy(col('num_voos').desc())\n",
    "    .limit(3).show()\n",
    ")\n"
   ]
  },
  {
   "cell_type": "markdown",
   "metadata": {
    "application/vnd.databricks.v1+cell": {
     "cellMetadata": {},
     "inputWidgets": {},
     "nuid": "7da4292b-7426-4a89-88e9-40e36d838cb9",
     "showTitle": false,
     "title": ""
    }
   },
   "source": [
    "### 17. Para cada origem, qual o principal destino?"
   ]
  },
  {
   "cell_type": "code",
   "execution_count": 0,
   "metadata": {
    "application/vnd.databricks.v1+cell": {
     "cellMetadata": {
      "byteLimit": 2048000,
      "rowLimit": 10000
     },
     "inputWidgets": {},
     "nuid": "2322f9e0-0ff0-4a3d-b133-cdf748204539",
     "showTitle": false,
     "title": ""
    }
   },
   "outputs": [
    {
     "output_type": "stream",
     "name": "stdout",
     "output_type": "stream",
     "text": [
      "+------+----+\n|origin|dest|\n+------+----+\n|   EWR| ORD|\n|   JFK| LAX|\n|   LGA| ATL|\n+------+----+\n\n"
     ]
    }
   ],
   "source": [
    "(\n",
    "    data.groupBy('origin', 'dest')\n",
    "    .agg(count('*').alias('num_voos'))\n",
    "    .withColumn(\n",
    "        'rank',\n",
    "        row_number().over(\n",
    "            Window.partitionBy('origin').orderBy(col('num_voos').desc())\n",
    "        ),\n",
    "    )\n",
    "    .filter(col('rank') == 1)\n",
    "    .select('origin', 'dest').show()\n",
    ")\n"
   ]
  }
 ],
 "metadata": {
  "application/vnd.databricks.v1+notebook": {
   "dashboards": [],
   "environmentMetadata": null,
   "language": "python",
   "notebookMetadata": {
    "pythonIndentUnit": 4
   },
   "notebookName": "perguntas",
   "widgets": {}
  }
 },
 "nbformat": 4,
 "nbformat_minor": 0
}
